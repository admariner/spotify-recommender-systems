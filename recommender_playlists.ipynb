{
 "cells": [
  {
   "cell_type": "markdown",
   "metadata": {},
   "source": [
    "# Recommender Playlists\n",
    "\n",
    "Recommend songs based on track features and current playlists using ML algorithms."
   ]
  },
  {
   "cell_type": "code",
   "execution_count": 45,
   "metadata": {},
   "outputs": [],
   "source": [
    "import numpy as np\n",
    "import pandas as pd\n",
    "import matplotlib.pyplot as plt"
   ]
  },
  {
   "cell_type": "code",
   "execution_count": null,
   "metadata": {},
   "outputs": [],
   "source": [
    "from sklearn.preprocessing import MinMaxScaler\n",
    "from sklearn.feature_selection import RFECV\n",
    "from sklearn.model_selection import train_test_split, StratifiedKFold, GridSearchCV\n",
    "from sklearn.metrics import classification_report"
   ]
  },
  {
   "cell_type": "code",
   "execution_count": 94,
   "metadata": {},
   "outputs": [],
   "source": [
    "from sklearn.linear_model import LogisticRegression\n",
    "from sklearn.ensemble import RandomForestClassifier\n",
    "from xgboost import XGBClassifier\n",
    "from sklearn.neighbors import KNeighborsClassifier"
   ]
  },
  {
   "cell_type": "markdown",
   "metadata": {},
   "source": [
    "## Import Data\n",
    "\n",
    "- Artist and track data was pulled using the Spotify API via the spotipy package\n",
    "- Data was saved in pickle format using music_data.py and data_functions.py modules\n",
    "- The data can now be quickly read by multiple workflows"
   ]
  },
  {
   "cell_type": "code",
   "execution_count": 73,
   "metadata": {},
   "outputs": [],
   "source": [
    "top_artist_df = pd.read_pickle(\"spotify/top_artists.pkl\")\n",
    "followed_artists_df = pd.read_pickle(\"spotify/followed_artists.pkl\")\n",
    "top_tracks_df = pd.read_pickle(\"spotify/top_tracks.pkl\")\n",
    "saved_tracks_df = pd.read_pickle(\"spotify/saved_tracks.pkl\")\n",
    "playlist_tracks_df = pd.read_pickle(\"spotify/playlist_tracks.pkl\")"
   ]
  },
  {
   "cell_type": "code",
   "execution_count": 74,
   "metadata": {},
   "outputs": [],
   "source": [
    "# Remove duplicates on track id\n",
    "playlist_tracks_df = playlist_tracks_df.drop_duplicates(subset='id', keep=\"first\").reset_index()"
   ]
  },
  {
   "cell_type": "code",
   "execution_count": 75,
   "metadata": {},
   "outputs": [
    {
     "data": {
      "text/html": [
       "<div>\n",
       "<style scoped>\n",
       "    .dataframe tbody tr th:only-of-type {\n",
       "        vertical-align: middle;\n",
       "    }\n",
       "\n",
       "    .dataframe tbody tr th {\n",
       "        vertical-align: top;\n",
       "    }\n",
       "\n",
       "    .dataframe thead th {\n",
       "        text-align: right;\n",
       "    }\n",
       "</style>\n",
       "<table border=\"1\" class=\"dataframe\">\n",
       "  <thead>\n",
       "    <tr style=\"text-align: right;\">\n",
       "      <th></th>\n",
       "      <th>index</th>\n",
       "      <th>id</th>\n",
       "      <th>name</th>\n",
       "      <th>popularity</th>\n",
       "      <th>type</th>\n",
       "      <th>is_local</th>\n",
       "      <th>explicit</th>\n",
       "      <th>duration_ms</th>\n",
       "      <th>disc_number</th>\n",
       "      <th>track_number</th>\n",
       "      <th>...</th>\n",
       "      <th>track_href</th>\n",
       "      <th>analysis_url</th>\n",
       "      <th>time_signature</th>\n",
       "      <th>analyzer_version</th>\n",
       "      <th>platform</th>\n",
       "      <th>detailed_status</th>\n",
       "      <th>status_code</th>\n",
       "      <th>timestamp</th>\n",
       "      <th>analysis_time</th>\n",
       "      <th>input_process</th>\n",
       "    </tr>\n",
       "  </thead>\n",
       "  <tbody>\n",
       "    <tr>\n",
       "      <th>0</th>\n",
       "      <td>0</td>\n",
       "      <td>6fgbQt13JlpN59PytgTMsA</td>\n",
       "      <td>Snow (Hey Oh)</td>\n",
       "      <td>61</td>\n",
       "      <td>audio_features</td>\n",
       "      <td>False</td>\n",
       "      <td>False</td>\n",
       "      <td>334667</td>\n",
       "      <td>1</td>\n",
       "      <td>1</td>\n",
       "      <td>...</td>\n",
       "      <td>https://api.spotify.com/v1/tracks/6fgbQt13JlpN...</td>\n",
       "      <td>https://api.spotify.com/v1/audio-analysis/6fgb...</td>\n",
       "      <td>4</td>\n",
       "      <td>4.0.0</td>\n",
       "      <td>Linux</td>\n",
       "      <td>OK</td>\n",
       "      <td>0</td>\n",
       "      <td>1444570278</td>\n",
       "      <td>13.83120</td>\n",
       "      <td>libvorbisfile L+R 44100-&gt;22050</td>\n",
       "    </tr>\n",
       "    <tr>\n",
       "      <th>1</th>\n",
       "      <td>1</td>\n",
       "      <td>3JOdLCIBzQYwHIvpN3isVf</td>\n",
       "      <td>Grand Theft Autumn / Where Is Your Boy</td>\n",
       "      <td>62</td>\n",
       "      <td>audio_features</td>\n",
       "      <td>False</td>\n",
       "      <td>False</td>\n",
       "      <td>191373</td>\n",
       "      <td>1</td>\n",
       "      <td>3</td>\n",
       "      <td>...</td>\n",
       "      <td>https://api.spotify.com/v1/tracks/3JOdLCIBzQYw...</td>\n",
       "      <td>https://api.spotify.com/v1/audio-analysis/3JOd...</td>\n",
       "      <td>4</td>\n",
       "      <td>4.0.0</td>\n",
       "      <td>Linux</td>\n",
       "      <td>OK</td>\n",
       "      <td>0</td>\n",
       "      <td>1445050760</td>\n",
       "      <td>7.72903</td>\n",
       "      <td>libvorbisfile L+R 44100-&gt;22050</td>\n",
       "    </tr>\n",
       "    <tr>\n",
       "      <th>2</th>\n",
       "      <td>2</td>\n",
       "      <td>7pAT4dOUzjq8Ziap5ShIqC</td>\n",
       "      <td>Where'd You Go (feat. Holly Brook &amp; Jonah Matr...</td>\n",
       "      <td>58</td>\n",
       "      <td>audio_features</td>\n",
       "      <td>False</td>\n",
       "      <td>True</td>\n",
       "      <td>231867</td>\n",
       "      <td>1</td>\n",
       "      <td>6</td>\n",
       "      <td>...</td>\n",
       "      <td>https://api.spotify.com/v1/tracks/7pAT4dOUzjq8...</td>\n",
       "      <td>https://api.spotify.com/v1/audio-analysis/7pAT...</td>\n",
       "      <td>4</td>\n",
       "      <td>4.0.0</td>\n",
       "      <td>Linux</td>\n",
       "      <td>OK</td>\n",
       "      <td>0</td>\n",
       "      <td>1572297760</td>\n",
       "      <td>7.12791</td>\n",
       "      <td>libvorbisfile L+R 44100-&gt;22050</td>\n",
       "    </tr>\n",
       "    <tr>\n",
       "      <th>3</th>\n",
       "      <td>3</td>\n",
       "      <td>1b7vg5T9YKR3NNqXfBYRF7</td>\n",
       "      <td>Check Yes Juliet</td>\n",
       "      <td>53</td>\n",
       "      <td>audio_features</td>\n",
       "      <td>False</td>\n",
       "      <td>False</td>\n",
       "      <td>220133</td>\n",
       "      <td>1</td>\n",
       "      <td>3</td>\n",
       "      <td>...</td>\n",
       "      <td>https://api.spotify.com/v1/tracks/1b7vg5T9YKR3...</td>\n",
       "      <td>https://api.spotify.com/v1/audio-analysis/1b7v...</td>\n",
       "      <td>4</td>\n",
       "      <td>4.0.0</td>\n",
       "      <td>Linux</td>\n",
       "      <td>OK</td>\n",
       "      <td>0</td>\n",
       "      <td>1444489788</td>\n",
       "      <td>9.60749</td>\n",
       "      <td>libvorbisfile L+R 44100-&gt;22050</td>\n",
       "    </tr>\n",
       "    <tr>\n",
       "      <th>4</th>\n",
       "      <td>4</td>\n",
       "      <td>12qZHAeOyTf93YAWvGDTat</td>\n",
       "      <td>All The Small Things</td>\n",
       "      <td>0</td>\n",
       "      <td>audio_features</td>\n",
       "      <td>False</td>\n",
       "      <td>False</td>\n",
       "      <td>168000</td>\n",
       "      <td>1</td>\n",
       "      <td>8</td>\n",
       "      <td>...</td>\n",
       "      <td>https://api.spotify.com/v1/tracks/12qZHAeOyTf9...</td>\n",
       "      <td>https://api.spotify.com/v1/audio-analysis/12qZ...</td>\n",
       "      <td>4</td>\n",
       "      <td>4.0.0</td>\n",
       "      <td>Linux</td>\n",
       "      <td>OK</td>\n",
       "      <td>0</td>\n",
       "      <td>1444553514</td>\n",
       "      <td>7.52174</td>\n",
       "      <td>libvorbisfile L+R 44100-&gt;22050</td>\n",
       "    </tr>\n",
       "  </tbody>\n",
       "</table>\n",
       "<p>5 rows × 43 columns</p>\n",
       "</div>"
      ],
      "text/plain": [
       "   index                      id  \\\n",
       "0      0  6fgbQt13JlpN59PytgTMsA   \n",
       "1      1  3JOdLCIBzQYwHIvpN3isVf   \n",
       "2      2  7pAT4dOUzjq8Ziap5ShIqC   \n",
       "3      3  1b7vg5T9YKR3NNqXfBYRF7   \n",
       "4      4  12qZHAeOyTf93YAWvGDTat   \n",
       "\n",
       "                                                name  popularity  \\\n",
       "0                                      Snow (Hey Oh)          61   \n",
       "1             Grand Theft Autumn / Where Is Your Boy          62   \n",
       "2  Where'd You Go (feat. Holly Brook & Jonah Matr...          58   \n",
       "3                                   Check Yes Juliet          53   \n",
       "4                               All The Small Things           0   \n",
       "\n",
       "             type  is_local  explicit  duration_ms  disc_number  track_number  \\\n",
       "0  audio_features     False     False       334667            1             1   \n",
       "1  audio_features     False     False       191373            1             3   \n",
       "2  audio_features     False      True       231867            1             6   \n",
       "3  audio_features     False     False       220133            1             3   \n",
       "4  audio_features     False     False       168000            1             8   \n",
       "\n",
       "   ...                                         track_href  \\\n",
       "0  ...  https://api.spotify.com/v1/tracks/6fgbQt13JlpN...   \n",
       "1  ...  https://api.spotify.com/v1/tracks/3JOdLCIBzQYw...   \n",
       "2  ...  https://api.spotify.com/v1/tracks/7pAT4dOUzjq8...   \n",
       "3  ...  https://api.spotify.com/v1/tracks/1b7vg5T9YKR3...   \n",
       "4  ...  https://api.spotify.com/v1/tracks/12qZHAeOyTf9...   \n",
       "\n",
       "                                        analysis_url time_signature  \\\n",
       "0  https://api.spotify.com/v1/audio-analysis/6fgb...              4   \n",
       "1  https://api.spotify.com/v1/audio-analysis/3JOd...              4   \n",
       "2  https://api.spotify.com/v1/audio-analysis/7pAT...              4   \n",
       "3  https://api.spotify.com/v1/audio-analysis/1b7v...              4   \n",
       "4  https://api.spotify.com/v1/audio-analysis/12qZ...              4   \n",
       "\n",
       "  analyzer_version platform detailed_status status_code   timestamp  \\\n",
       "0            4.0.0    Linux              OK           0  1444570278   \n",
       "1            4.0.0    Linux              OK           0  1445050760   \n",
       "2            4.0.0    Linux              OK           0  1572297760   \n",
       "3            4.0.0    Linux              OK           0  1444489788   \n",
       "4            4.0.0    Linux              OK           0  1444553514   \n",
       "\n",
       "  analysis_time                   input_process  \n",
       "0      13.83120  libvorbisfile L+R 44100->22050  \n",
       "1       7.72903  libvorbisfile L+R 44100->22050  \n",
       "2       7.12791  libvorbisfile L+R 44100->22050  \n",
       "3       9.60749  libvorbisfile L+R 44100->22050  \n",
       "4       7.52174  libvorbisfile L+R 44100->22050  \n",
       "\n",
       "[5 rows x 43 columns]"
      ]
     },
     "execution_count": 75,
     "metadata": {},
     "output_type": "execute_result"
    }
   ],
   "source": [
    "playlist_tracks_df.head()"
   ]
  },
  {
   "cell_type": "markdown",
   "metadata": {},
   "source": [
    "## Create Ratings\n",
    "\n",
    "I want to avoid time labelling my data, the best way to form recommendations would be to rate all my playlist songs from 1-10 and form a regression problem. I'm skipping this as I have a 'Best Of' playlist folder, so can turn this into a classifcation problem.\n",
    "\n",
    "- Everything before 'Everlong - Acoustic Version' is my favourites, classify these as 1\n",
    "- Classify the rest as 0"
   ]
  },
  {
   "cell_type": "code",
   "execution_count": 76,
   "metadata": {},
   "outputs": [
    {
     "data": {
      "text/html": [
       "<div>\n",
       "<style scoped>\n",
       "    .dataframe tbody tr th:only-of-type {\n",
       "        vertical-align: middle;\n",
       "    }\n",
       "\n",
       "    .dataframe tbody tr th {\n",
       "        vertical-align: top;\n",
       "    }\n",
       "\n",
       "    .dataframe thead th {\n",
       "        text-align: right;\n",
       "    }\n",
       "</style>\n",
       "<table border=\"1\" class=\"dataframe\">\n",
       "  <thead>\n",
       "    <tr style=\"text-align: right;\">\n",
       "      <th></th>\n",
       "      <th>index</th>\n",
       "      <th>id</th>\n",
       "      <th>name</th>\n",
       "      <th>popularity</th>\n",
       "      <th>type</th>\n",
       "      <th>is_local</th>\n",
       "      <th>explicit</th>\n",
       "      <th>duration_ms</th>\n",
       "      <th>disc_number</th>\n",
       "      <th>track_number</th>\n",
       "      <th>...</th>\n",
       "      <th>track_href</th>\n",
       "      <th>analysis_url</th>\n",
       "      <th>time_signature</th>\n",
       "      <th>analyzer_version</th>\n",
       "      <th>platform</th>\n",
       "      <th>detailed_status</th>\n",
       "      <th>status_code</th>\n",
       "      <th>timestamp</th>\n",
       "      <th>analysis_time</th>\n",
       "      <th>input_process</th>\n",
       "    </tr>\n",
       "  </thead>\n",
       "  <tbody>\n",
       "    <tr>\n",
       "      <th>640</th>\n",
       "      <td>1060</td>\n",
       "      <td>3QmesrvdbPjwf7i40nht1D</td>\n",
       "      <td>Everlong - Acoustic Version</td>\n",
       "      <td>69</td>\n",
       "      <td>audio_features</td>\n",
       "      <td>False</td>\n",
       "      <td>False</td>\n",
       "      <td>250907</td>\n",
       "      <td>1</td>\n",
       "      <td>16</td>\n",
       "      <td>...</td>\n",
       "      <td>https://api.spotify.com/v1/tracks/3QmesrvdbPjw...</td>\n",
       "      <td>https://api.spotify.com/v1/audio-analysis/3Qme...</td>\n",
       "      <td>4</td>\n",
       "      <td>4.0.0</td>\n",
       "      <td>Linux</td>\n",
       "      <td>OK</td>\n",
       "      <td>0</td>\n",
       "      <td>1571740482</td>\n",
       "      <td>7.94294</td>\n",
       "      <td>libvorbisfile L+R 44100-&gt;22050</td>\n",
       "    </tr>\n",
       "  </tbody>\n",
       "</table>\n",
       "<p>1 rows × 43 columns</p>\n",
       "</div>"
      ],
      "text/plain": [
       "     index                      id                         name  popularity  \\\n",
       "640   1060  3QmesrvdbPjwf7i40nht1D  Everlong - Acoustic Version          69   \n",
       "\n",
       "               type  is_local  explicit  duration_ms  disc_number  \\\n",
       "640  audio_features     False     False       250907            1   \n",
       "\n",
       "     track_number  ...                                         track_href  \\\n",
       "640            16  ...  https://api.spotify.com/v1/tracks/3QmesrvdbPjw...   \n",
       "\n",
       "                                          analysis_url time_signature  \\\n",
       "640  https://api.spotify.com/v1/audio-analysis/3Qme...              4   \n",
       "\n",
       "    analyzer_version platform detailed_status status_code   timestamp  \\\n",
       "640            4.0.0    Linux              OK           0  1571740482   \n",
       "\n",
       "    analysis_time                   input_process  \n",
       "640       7.94294  libvorbisfile L+R 44100->22050  \n",
       "\n",
       "[1 rows x 43 columns]"
      ]
     },
     "execution_count": 76,
     "metadata": {},
     "output_type": "execute_result"
    }
   ],
   "source": [
    "playlist_tracks_df.loc[playlist_tracks_df['name'] == 'Everlong - Acoustic Version']"
   ]
  },
  {
   "cell_type": "code",
   "execution_count": 77,
   "metadata": {},
   "outputs": [],
   "source": [
    "ratings = [1 for _ in range(639)] + [0 for _ in range(len(playlist_tracks_df) - 639)]\n",
    "playlist_tracks_df['ratings'] = ratings"
   ]
  },
  {
   "cell_type": "code",
   "execution_count": 78,
   "metadata": {},
   "outputs": [
    {
     "data": {
      "text/html": [
       "<div>\n",
       "<style scoped>\n",
       "    .dataframe tbody tr th:only-of-type {\n",
       "        vertical-align: middle;\n",
       "    }\n",
       "\n",
       "    .dataframe tbody tr th {\n",
       "        vertical-align: top;\n",
       "    }\n",
       "\n",
       "    .dataframe thead th {\n",
       "        text-align: right;\n",
       "    }\n",
       "</style>\n",
       "<table border=\"1\" class=\"dataframe\">\n",
       "  <thead>\n",
       "    <tr style=\"text-align: right;\">\n",
       "      <th></th>\n",
       "      <th>acousticness</th>\n",
       "      <th>danceability</th>\n",
       "      <th>duration_ms</th>\n",
       "      <th>energy</th>\n",
       "      <th>instrumentalness</th>\n",
       "      <th>key</th>\n",
       "      <th>liveness</th>\n",
       "      <th>loudness</th>\n",
       "      <th>mode</th>\n",
       "      <th>speechiness</th>\n",
       "      <th>tempo</th>\n",
       "      <th>valence</th>\n",
       "    </tr>\n",
       "  </thead>\n",
       "  <tbody>\n",
       "    <tr>\n",
       "      <th>582</th>\n",
       "      <td>0.000724</td>\n",
       "      <td>0.417</td>\n",
       "      <td>223809</td>\n",
       "      <td>0.981</td>\n",
       "      <td>0.000003</td>\n",
       "      <td>6</td>\n",
       "      <td>0.2100</td>\n",
       "      <td>-3.607</td>\n",
       "      <td>1</td>\n",
       "      <td>0.1370</td>\n",
       "      <td>168.056</td>\n",
       "      <td>0.367</td>\n",
       "    </tr>\n",
       "    <tr>\n",
       "      <th>48</th>\n",
       "      <td>0.835000</td>\n",
       "      <td>0.609</td>\n",
       "      <td>233720</td>\n",
       "      <td>0.378</td>\n",
       "      <td>0.000000</td>\n",
       "      <td>4</td>\n",
       "      <td>0.2800</td>\n",
       "      <td>-9.828</td>\n",
       "      <td>1</td>\n",
       "      <td>0.4380</td>\n",
       "      <td>100.418</td>\n",
       "      <td>0.515</td>\n",
       "    </tr>\n",
       "    <tr>\n",
       "      <th>1772</th>\n",
       "      <td>0.632000</td>\n",
       "      <td>0.545</td>\n",
       "      <td>249493</td>\n",
       "      <td>0.662</td>\n",
       "      <td>0.000002</td>\n",
       "      <td>5</td>\n",
       "      <td>0.1200</td>\n",
       "      <td>-7.530</td>\n",
       "      <td>0</td>\n",
       "      <td>0.0297</td>\n",
       "      <td>160.058</td>\n",
       "      <td>0.920</td>\n",
       "    </tr>\n",
       "    <tr>\n",
       "      <th>964</th>\n",
       "      <td>0.374000</td>\n",
       "      <td>0.528</td>\n",
       "      <td>210661</td>\n",
       "      <td>0.610</td>\n",
       "      <td>0.000073</td>\n",
       "      <td>5</td>\n",
       "      <td>0.2110</td>\n",
       "      <td>-6.564</td>\n",
       "      <td>1</td>\n",
       "      <td>0.0287</td>\n",
       "      <td>130.108</td>\n",
       "      <td>0.304</td>\n",
       "    </tr>\n",
       "    <tr>\n",
       "      <th>2213</th>\n",
       "      <td>0.791000</td>\n",
       "      <td>0.745</td>\n",
       "      <td>227872</td>\n",
       "      <td>0.397</td>\n",
       "      <td>0.000029</td>\n",
       "      <td>11</td>\n",
       "      <td>0.1010</td>\n",
       "      <td>-9.084</td>\n",
       "      <td>1</td>\n",
       "      <td>0.0283</td>\n",
       "      <td>93.947</td>\n",
       "      <td>0.516</td>\n",
       "    </tr>\n",
       "    <tr>\n",
       "      <th>...</th>\n",
       "      <td>...</td>\n",
       "      <td>...</td>\n",
       "      <td>...</td>\n",
       "      <td>...</td>\n",
       "      <td>...</td>\n",
       "      <td>...</td>\n",
       "      <td>...</td>\n",
       "      <td>...</td>\n",
       "      <td>...</td>\n",
       "      <td>...</td>\n",
       "      <td>...</td>\n",
       "      <td>...</td>\n",
       "    </tr>\n",
       "    <tr>\n",
       "      <th>1638</th>\n",
       "      <td>0.194000</td>\n",
       "      <td>0.529</td>\n",
       "      <td>232120</td>\n",
       "      <td>0.740</td>\n",
       "      <td>0.000000</td>\n",
       "      <td>11</td>\n",
       "      <td>0.0711</td>\n",
       "      <td>-3.309</td>\n",
       "      <td>1</td>\n",
       "      <td>0.0610</td>\n",
       "      <td>199.582</td>\n",
       "      <td>0.762</td>\n",
       "    </tr>\n",
       "    <tr>\n",
       "      <th>1095</th>\n",
       "      <td>0.752000</td>\n",
       "      <td>0.110</td>\n",
       "      <td>138960</td>\n",
       "      <td>0.265</td>\n",
       "      <td>0.944000</td>\n",
       "      <td>0</td>\n",
       "      <td>0.1040</td>\n",
       "      <td>-12.400</td>\n",
       "      <td>0</td>\n",
       "      <td>0.0351</td>\n",
       "      <td>80.626</td>\n",
       "      <td>0.198</td>\n",
       "    </tr>\n",
       "    <tr>\n",
       "      <th>1130</th>\n",
       "      <td>0.207000</td>\n",
       "      <td>0.483</td>\n",
       "      <td>198946</td>\n",
       "      <td>0.351</td>\n",
       "      <td>0.003610</td>\n",
       "      <td>6</td>\n",
       "      <td>0.0960</td>\n",
       "      <td>-10.386</td>\n",
       "      <td>0</td>\n",
       "      <td>0.0306</td>\n",
       "      <td>76.808</td>\n",
       "      <td>0.155</td>\n",
       "    </tr>\n",
       "    <tr>\n",
       "      <th>1294</th>\n",
       "      <td>0.000005</td>\n",
       "      <td>0.301</td>\n",
       "      <td>260387</td>\n",
       "      <td>0.940</td>\n",
       "      <td>0.914000</td>\n",
       "      <td>5</td>\n",
       "      <td>0.3300</td>\n",
       "      <td>-8.671</td>\n",
       "      <td>0</td>\n",
       "      <td>0.0897</td>\n",
       "      <td>196.971</td>\n",
       "      <td>0.321</td>\n",
       "    </tr>\n",
       "    <tr>\n",
       "      <th>860</th>\n",
       "      <td>0.755000</td>\n",
       "      <td>0.522</td>\n",
       "      <td>372878</td>\n",
       "      <td>0.528</td>\n",
       "      <td>0.319000</td>\n",
       "      <td>9</td>\n",
       "      <td>0.2410</td>\n",
       "      <td>-13.532</td>\n",
       "      <td>1</td>\n",
       "      <td>0.0398</td>\n",
       "      <td>115.006</td>\n",
       "      <td>0.347</td>\n",
       "    </tr>\n",
       "  </tbody>\n",
       "</table>\n",
       "<p>2080 rows × 12 columns</p>\n",
       "</div>"
      ],
      "text/plain": [
       "      acousticness  danceability  duration_ms  energy  instrumentalness  key  \\\n",
       "582       0.000724         0.417       223809   0.981          0.000003    6   \n",
       "48        0.835000         0.609       233720   0.378          0.000000    4   \n",
       "1772      0.632000         0.545       249493   0.662          0.000002    5   \n",
       "964       0.374000         0.528       210661   0.610          0.000073    5   \n",
       "2213      0.791000         0.745       227872   0.397          0.000029   11   \n",
       "...            ...           ...          ...     ...               ...  ...   \n",
       "1638      0.194000         0.529       232120   0.740          0.000000   11   \n",
       "1095      0.752000         0.110       138960   0.265          0.944000    0   \n",
       "1130      0.207000         0.483       198946   0.351          0.003610    6   \n",
       "1294      0.000005         0.301       260387   0.940          0.914000    5   \n",
       "860       0.755000         0.522       372878   0.528          0.319000    9   \n",
       "\n",
       "      liveness  loudness  mode  speechiness    tempo  valence  \n",
       "582     0.2100    -3.607     1       0.1370  168.056    0.367  \n",
       "48      0.2800    -9.828     1       0.4380  100.418    0.515  \n",
       "1772    0.1200    -7.530     0       0.0297  160.058    0.920  \n",
       "964     0.2110    -6.564     1       0.0287  130.108    0.304  \n",
       "2213    0.1010    -9.084     1       0.0283   93.947    0.516  \n",
       "...        ...       ...   ...          ...      ...      ...  \n",
       "1638    0.0711    -3.309     1       0.0610  199.582    0.762  \n",
       "1095    0.1040   -12.400     0       0.0351   80.626    0.198  \n",
       "1130    0.0960   -10.386     0       0.0306   76.808    0.155  \n",
       "1294    0.3300    -8.671     0       0.0897  196.971    0.321  \n",
       "860     0.2410   -13.532     1       0.0398  115.006    0.347  \n",
       "\n",
       "[2080 rows x 12 columns]"
      ]
     },
     "execution_count": 78,
     "metadata": {},
     "output_type": "execute_result"
    }
   ],
   "source": [
    "# Training data\n",
    "X = playlist_tracks_df[['acousticness', 'danceability', 'duration_ms', 'energy', 'instrumentalness', \n",
    "                        'key', 'liveness', 'loudness', 'mode', 'speechiness', 'tempo', 'valence',\n",
    "                        'popularity', 'duration_ms', 'explicit', 'time_signature']]\n",
    "y = playlist_tracks_df['ratings']\n",
    "\n",
    "X_train, X_test, y_train, y_test = train_test_split(X, y, test_size=0.2, random_state=42)\n",
    "X_train"
   ]
  },
  {
   "cell_type": "markdown",
   "metadata": {},
   "source": [
    "## ML Time\n",
    "\n",
    "- Feature rankings\n",
    "- No need to PCA we don't assume a linear relationship between variables and we want our components to be interpretable\n",
    "- ML models for classification (logistic regression, random forest, xgboost, knn)"
   ]
  },
  {
   "cell_type": "markdown",
   "metadata": {},
   "source": [
    "### Feature Rankings"
   ]
  },
  {
   "cell_type": "code",
   "execution_count": 79,
   "metadata": {},
   "outputs": [
    {
     "name": "stdout",
     "output_type": "stream",
     "text": [
      "Optimal number of features: 8\n"
     ]
    },
    {
     "data": {
      "image/png": "[encoded data removed]",
      "text/plain": [
       "<Figure size 432x288 with 1 Axes>"
      ]
     },
     "metadata": {
      "needs_background": "light"
     },
     "output_type": "display_data"
    }
   ],
   "source": [
    "# Cross-validation for number of features\n",
    "rf = RandomForestClassifier(n_estimators = 1000, random_state = 42)\n",
    "rfecv = RFECV(estimator=rf, step=1, cv=StratifiedKFold(2))\n",
    "rfecv.fit(X_train, y_train)\n",
    "\n",
    "print(f'Optimal number of features: {rfecv.n_features_}')\n",
    "\n",
    "plt.figure()\n",
    "plt.xlabel('Number of features selected')\n",
    "plt.ylabel('Cross validation score')\n",
    "plt.plot(range(1, len(rfecv.grid_scores_)+1), rfecv.grid_scores_)\n",
    "plt.show()"
   ]
  },
  {
   "cell_type": "code",
   "execution_count": 80,
   "metadata": {},
   "outputs": [
    {
     "name": "stdout",
     "output_type": "stream",
     "text": [
      "Feature ranking:\n",
      "1. acousticness 0.38308460475831996\n",
      "2. danceability 0.16528587473278158\n",
      "3. duration_ms 0.09373692393672925\n",
      "4. energy 0.08207596447668478\n",
      "5. instrumentalness 0.05811864924970732\n",
      "6. key 0.04617210657842682\n",
      "7. liveness 0.039217043056691665\n",
      "8. loudness 0.03491471913000703\n",
      "9. mode 0.032979230553643206\n",
      "10. speechiness 0.028127974258075505\n",
      "11. tempo 0.027895728911230586\n",
      "12. valence 0.008391180357702399\n"
     ]
    }
   ],
   "source": [
    "# Analyze feature importances\n",
    "rfc = RandomForestClassifier(n_estimators = 1000, max_depth=4, max_features=12, random_state=42)  # 8 is optimal but few features anyway\n",
    "rf.fit(X_train, y_train)\n",
    "importances = rf.feature_importances_\n",
    "indices = np.argsort(importances)[::-1]\n",
    "\n",
    "print(\"Feature ranking:\")\n",
    "for i in range(len(importances)):\n",
    "    print(f\"{i+1}. {X_train.columns[i]} {importances[indices[i]]}\")"
   ]
  },
  {
   "cell_type": "markdown",
   "metadata": {},
   "source": [
    "### Logistic Regression"
   ]
  },
  {
   "cell_type": "code",
   "execution_count": 84,
   "metadata": {},
   "outputs": [
    {
     "name": "stdout",
     "output_type": "stream",
     "text": [
      "              precision    recall  f1-score   support\n",
      "\n",
      "           0       0.74      1.00      0.85       387\n",
      "           1       0.00      0.00      0.00       133\n",
      "\n",
      "    accuracy                           0.74       520\n",
      "   macro avg       0.37      0.50      0.43       520\n",
      "weighted avg       0.55      0.74      0.64       520\n",
      "\n"
     ]
    },
    {
     "name": "stderr",
     "output_type": "stream",
     "text": [
      "/Users/anthony/opt/anaconda3/lib/python3.7/site-packages/sklearn/metrics/_classification.py:1272: UndefinedMetricWarning: Precision and F-score are ill-defined and being set to 0.0 in labels with no predicted samples. Use `zero_division` parameter to control this behavior.\n",
      "  _warn_prf(average, modifier, msg_start, len(result))\n"
     ]
    }
   ],
   "source": [
    "# Logistic Regression\n",
    "\n",
    "# Rescale features from 0 to 1\n",
    "minmax_scaler = MinMaxScaler()\n",
    "X_train_scaled = pd.DataFrame(minmax_scaler.fit_transform(X_train), columns=X_train.columns)\n",
    "\n",
    "lr = LogisticRegression()\n",
    "lr.fit(X_train_scaled, y_train)\n",
    "print(classification_report(y_test, lr.predict(X_test)))"
   ]
  },
  {
   "cell_type": "markdown",
   "metadata": {},
   "source": [
    "### Random Forest"
   ]
  },
  {
   "cell_type": "code",
   "execution_count": 92,
   "metadata": {},
   "outputs": [
    {
     "name": "stdout",
     "output_type": "stream",
     "text": [
      "Fitting 2 folds for each of 48 candidates, totalling 96 fits\n"
     ]
    },
    {
     "name": "stderr",
     "output_type": "stream",
     "text": [
      "[Parallel(n_jobs=-1)]: Using backend LokyBackend with 8 concurrent workers.\n",
      "[Parallel(n_jobs=-1)]: Done  34 tasks      | elapsed:   21.1s\n",
      "[Parallel(n_jobs=-1)]: Done  96 out of  96 | elapsed:  1.1min finished\n"
     ]
    },
    {
     "data": {
      "text/plain": [
       "(RandomForestClassifier(bootstrap=True, ccp_alpha=0.0, class_weight=None,\n",
       "                        criterion='gini', max_depth=8, max_features=7,\n",
       "                        max_leaf_nodes=None, max_samples=None,\n",
       "                        min_impurity_decrease=0.0, min_impurity_split=None,\n",
       "                        min_samples_leaf=3, min_samples_split=2,\n",
       "                        min_weight_fraction_leaf=0.0, n_estimators=1000,\n",
       "                        n_jobs=None, oob_score=False, random_state=42, verbose=0,\n",
       "                        warm_start=False),\n",
       " 0.7730769230769231)"
      ]
     },
     "execution_count": 92,
     "metadata": {},
     "output_type": "execute_result"
    }
   ],
   "source": [
    "# Random Forest Classifier\n",
    "rfc = RandomForestClassifier(n_estimators = 1000, max_depth=4, max_features=12, random_state=42)\n",
    "rfc_gcv_parameters = {'max_features': [4, 7, 8, 10], \n",
    "                       'min_samples_leaf': [1, 3, 5, 8], \n",
    "                       'max_depth': [3, 5, 8]}\n",
    "rfe_gcv = GridSearchCV(rfc, rfc_gcv_parameters, n_jobs=-1, cv=StratifiedKFold(2), verbose=1)\n",
    "rfe_gcv.fit(X_train, y_train)\n",
    "rfe_gcv.best_estimator_, rfe_gcv.best_score_"
   ]
  },
  {
   "cell_type": "code",
   "execution_count": 93,
   "metadata": {},
   "outputs": [
    {
     "name": "stdout",
     "output_type": "stream",
     "text": [
      "              precision    recall  f1-score   support\n",
      "\n",
      "           0       0.75      0.96      0.84       387\n",
      "           1       0.35      0.07      0.11       133\n",
      "\n",
      "    accuracy                           0.73       520\n",
      "   macro avg       0.55      0.51      0.48       520\n",
      "weighted avg       0.65      0.73      0.65       520\n",
      "\n"
     ]
    }
   ],
   "source": [
    "print(classification_report(y_test, rfe_gcv.predict(X_test)))"
   ]
  },
  {
   "cell_type": "markdown",
   "metadata": {},
   "source": [
    "### XGBoost"
   ]
  },
  {
   "cell_type": "code",
   "execution_count": 96,
   "metadata": {},
   "outputs": [
    {
     "name": "stdout",
     "output_type": "stream",
     "text": [
      "Fitting 2 folds for each of 48 candidates, totalling 96 fits\n"
     ]
    },
    {
     "name": "stderr",
     "output_type": "stream",
     "text": [
      "[Parallel(n_jobs=-1)]: Using backend LokyBackend with 8 concurrent workers.\n",
      "[Parallel(n_jobs=-1)]: Done  34 tasks      | elapsed:  1.0min\n",
      "[Parallel(n_jobs=-1)]: Done  96 out of  96 | elapsed:  2.7min finished\n",
      "/Users/anthony/opt/anaconda3/lib/python3.7/site-packages/xgboost/sklearn.py:888: UserWarning: The use of label encoder in XGBClassifier is deprecated and will be removed in a future release. To remove this warning, do the following: 1) Pass option use_label_encoder=False when constructing XGBClassifier object; and 2) Encode your labels (y) as integers starting with 0, i.e. 0, 1, 2, ..., [num_class - 1].\n",
      "  warnings.warn(label_encoder_deprecation_msg, UserWarning)\n"
     ]
    },
    {
     "name": "stdout",
     "output_type": "stream",
     "text": [
      "[16:22:19] WARNING: /Users/travis/build/dmlc/xgboost/src/learner.cc:1061: Starting in XGBoost 1.3.0, the default evaluation metric used with the objective 'binary:logistic' was changed from 'error' to 'logloss'. Explicitly set eval_metric if you'd like to restore the old behavior.\n"
     ]
    },
    {
     "data": {
      "text/plain": [
       "(XGBClassifier(base_score=0.5, booster='gbtree', colsample_bylevel=1,\n",
       "               colsample_bynode=1, colsample_bytree=1, eta=0.3, gamma=0,\n",
       "               gpu_id=-1, importance_type='gain', interaction_constraints='',\n",
       "               learning_rate=0.300000012, max_delta_step=0, max_depth=8,\n",
       "               min_child_weight=0.3, missing=nan, monotone_constraints='()',\n",
       "               n_estimators=1000, n_jobs=8, num_parallel_tree=1,\n",
       "               objective='binary:logistic', random_state=42, reg_alpha=0,\n",
       "               reg_lambda=1, scale_pos_weight=1, subsample=1,\n",
       "               tree_method='exact', use_label_encoder=True,\n",
       "               validate_parameters=1, verbosity=None),\n",
       " 0.7475961538461539)"
      ]
     },
     "execution_count": 96,
     "metadata": {},
     "output_type": "execute_result"
    }
   ],
   "source": [
    "# XGBoost Classifier\n",
    "xgb = XGBClassifier(n_estimators = 1000, max_depth=4, random_state=42)\n",
    "xgb_gcv_parameters = {'eta': [0.3, 0.4, 0.5],\n",
    "                      'min_child_weight': [0.3, 0.5, 0.8, 1], \n",
    "                      'max_depth': [3, 5, 6, 8]}\n",
    "xgb_gcv = GridSearchCV(xgb, xgb_gcv_parameters, n_jobs=-1, cv=StratifiedKFold(2), verbose=1)\n",
    "xgb_gcv.fit(X_train, y_train)\n",
    "xgb_gcv.best_estimator_, xgb_gcv.best_score_"
   ]
  },
  {
   "cell_type": "code",
   "execution_count": 97,
   "metadata": {},
   "outputs": [
    {
     "name": "stdout",
     "output_type": "stream",
     "text": [
      "              precision    recall  f1-score   support\n",
      "\n",
      "           0       0.77      0.89      0.83       387\n",
      "           1       0.43      0.25      0.32       133\n",
      "\n",
      "    accuracy                           0.73       520\n",
      "   macro avg       0.60      0.57      0.57       520\n",
      "weighted avg       0.69      0.72      0.70       520\n",
      "\n"
     ]
    }
   ],
   "source": [
    "print(classification_report(y_test, xgb_gcv.predict(X_test)))"
   ]
  },
  {
   "cell_type": "markdown",
   "metadata": {},
   "source": [
    "### KNN"
   ]
  },
  {
   "cell_type": "code",
   "execution_count": 99,
   "metadata": {},
   "outputs": [
    {
     "name": "stdout",
     "output_type": "stream",
     "text": [
      "Fitting 2 folds for each of 9 candidates, totalling 18 fits\n"
     ]
    },
    {
     "name": "stderr",
     "output_type": "stream",
     "text": [
      "[Parallel(n_jobs=-1)]: Using backend LokyBackend with 8 concurrent workers.\n",
      "[Parallel(n_jobs=-1)]: Done  18 out of  18 | elapsed:    0.5s finished\n"
     ]
    },
    {
     "data": {
      "text/plain": [
       "({'n_neighbors': 6}, 0.7399038461538462)"
      ]
     },
     "execution_count": 99,
     "metadata": {},
     "output_type": "execute_result"
    }
   ],
   "source": [
    "# KNN Classifier\n",
    "knn = KNeighborsClassifier(n_jobs=-1)\n",
    "knn_gcv_params = {'n_neighbors': range(1, 10)}\n",
    "\n",
    "knn_gcv = GridSearchCV(knn, knn_gcv_params, cv=StratifiedKFold(2), n_jobs=-1, verbose=True)\n",
    "knn_gcv.fit(X_train, y_train)\n",
    "knn_gcv.best_params_, knn_gcv.best_score_"
   ]
  },
  {
   "cell_type": "code",
   "execution_count": 100,
   "metadata": {},
   "outputs": [
    {
     "name": "stdout",
     "output_type": "stream",
     "text": [
      "              precision    recall  f1-score   support\n",
      "\n",
      "           0       0.77      0.89      0.83       387\n",
      "           1       0.43      0.25      0.32       133\n",
      "\n",
      "    accuracy                           0.73       520\n",
      "   macro avg       0.60      0.57      0.57       520\n",
      "weighted avg       0.69      0.72      0.70       520\n",
      "\n"
     ]
    }
   ],
   "source": [
    "print(classification_report(y_test, xgb_gcv.predict(X_test)))"
   ]
  },
  {
   "cell_type": "markdown",
   "metadata": {},
   "source": [
    "# Recommendations\n",
    "\n",
    "- Looks like XGBoost classifier performs the best for me (as expected), let's see what it recommends should be in \"Best Of\"\n",
    "- Use recommendation_tracks_df as the evaluation dataset"
   ]
  },
  {
   "cell_type": "code",
   "execution_count": 101,
   "metadata": {},
   "outputs": [
    {
     "data": {
      "text/plain": [
       "Index(['index', 'id', 'name', 'popularity', 'type', 'is_local', 'explicit',\n",
       "       'duration_ms', 'disc_number', 'track_number', 'artist_id',\n",
       "       'artist_name', 'album_artist_id', 'album_artist_name', 'album_id',\n",
       "       'album_name', 'album_release_date', 'album_tracks', 'album_type',\n",
       "       'added_at', 'added_by', 'danceability', 'energy', 'key', 'loudness',\n",
       "       'mode', 'speechiness', 'acousticness', 'instrumentalness', 'liveness',\n",
       "       'valence', 'tempo', 'uri', 'track_href', 'analysis_url',\n",
       "       'time_signature', 'analyzer_version', 'platform', 'detailed_status',\n",
       "       'status_code', 'timestamp', 'analysis_time', 'input_process',\n",
       "       'ratings'],\n",
       "      dtype='object')"
      ]
     },
     "execution_count": 101,
     "metadata": {},
     "output_type": "execute_result"
    }
   ],
   "source": [
    "playlist_tracks_df"
   ]
  },
  {
   "cell_type": "code",
   "execution_count": 110,
   "metadata": {},
   "outputs": [
    {
     "data": {
      "text/plain": [
       "0       4\n",
       "1       4\n",
       "2       4\n",
       "3       4\n",
       "4       4\n",
       "       ..\n",
       "2595    4\n",
       "2596    4\n",
       "2597    4\n",
       "2598    4\n",
       "2599    4\n",
       "Name: time_signature, Length: 2600, dtype: int64"
      ]
     },
     "execution_count": 110,
     "metadata": {},
     "output_type": "execute_result"
    }
   ],
   "source": [
    "playlist_tracks_df['time_signature']"
   ]
  },
  {
   "cell_type": "code",
   "execution_count": null,
   "metadata": {},
   "outputs": [],
   "source": []
  }
 ],
 "metadata": {
  "kernelspec": {
   "display_name": "Python 3",
   "language": "python",
   "name": "python3"
  },
  "language_info": {
   "codemirror_mode": {
    "name": "ipython",
    "version": 3
   },
   "file_extension": ".py",
   "mimetype": "text/x-python",
   "name": "python",
   "nbconvert_exporter": "python",
   "pygments_lexer": "ipython3",
   "version": "3.7.6"
  }
 },
 "nbformat": 4,
 "nbformat_minor": 4
}
